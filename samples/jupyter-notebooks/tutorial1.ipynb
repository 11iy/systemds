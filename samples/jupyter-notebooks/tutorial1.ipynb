{
 "cells": [
  {
   "cell_type": "markdown",
   "metadata": {},
   "source": [
    "# SystemML Scala tutorial \n",
    "This tutorial includes simple example to run DML script and display output."
   ]
  },
  {
   "cell_type": "markdown",
   "metadata": {},
   "source": [
    "# Install SystemML Python package and jar file\n",
    "You can configre SystemML jar file in Scala kernel by downloading either from \n",
    "  1. Distribution location (https://dist.apache.org/repos/dist/release/incubator/systemml/) or \n",
    "  2. Latest daily built code (https://sparktc.ibmcloud.com/repo/latest/) or\n",
    "  3. From your local system if you have extracted recent code and built locally. \n",
    "     (e.g. ~/git/incubator-systemml/target/systemml-1.0.0-incubating-SNAPSHOT.jar)\n",
    "     \n",
    "Please visit SystemML site to know \"How to configure Toree(Scala) Kernel\".\n",
    "     \n",
    "### This notebook is supported with SystemML 0.14.0 and above."
   ]
  },
  {
   "cell_type": "code",
   "execution_count": null,
   "metadata": {
    "collapsed": true
   },
   "outputs": [],
   "source": [
    "import org.apache.sysml.api.mlcontext.MLContext\n",
    "import org.apache.sysml.api.mlcontext.ScriptFactory.dml\n",
    "import org.apache.spark.sql.SparkSession\n",
    "\n",
    "val sparkSession = SparkSession.builder().master(\"local\").appName(\"Tutorial\").getOrCreate()\n",
    "val ml = new MLContext(sparkSession)\n",
    "\n",
    "print (\"Spark Version: \" + sc.version)\n",
    "print (\"\\nSystemML Version: \" + ml.version())\n",
    "print (\"\\nBuild Time: \" + ml.buildTime())"
   ]
  },
  {
   "cell_type": "markdown",
   "metadata": {},
   "source": [
    "## Run the script"
   ]
  },
  {
   "cell_type": "code",
   "execution_count": null,
   "metadata": {
    "collapsed": true
   },
   "outputs": [],
   "source": [
    "val sumScript = \"\"\"\n",
    "X = rand(rows=100, cols=10)\n",
    "sumX = sum(X)\n",
    "outMatrix = matrix(sumX, rows=1, cols=1)\n",
    "write(outMatrix, \" \", format=\"csv\")\n",
    "\"\"\"\n",
    "\n",
    "val script = dml(sumScript).out(\"outMatrix\")\n",
    "val out = ml.execute(script)\n",
    "val outMatrix = out.getDataFrame(\"outMatrix\")"
   ]
  },
  {
   "cell_type": "markdown",
   "metadata": {},
   "source": [
    "## Display the output"
   ]
  },
  {
   "cell_type": "code",
   "execution_count": null,
   "metadata": {
    "collapsed": true
   },
   "outputs": [],
   "source": [
    "outMatrix.show"
   ]
  }
 ],
 "metadata": {
  "kernelspec": {
   "display_name": "Apache Toree - Scala",
   "language": "scala",
   "name": "apache_toree_scala"
  },
  "language_info": {
   "file_extension": ".scala",
   "name": "scala",
   "version": "2.11.8"
  }
 },
 "nbformat": 4,
 "nbformat_minor": 1
}
